{
  "nbformat": 4,
  "nbformat_minor": 0,
  "metadata": {
    "colab": {
      "provenance": []
    },
    "kernelspec": {
      "name": "python3",
      "display_name": "Python 3"
    },
    "language_info": {
      "name": "python"
    }
  },
  "cells": [
    {
      "cell_type": "code",
      "source": [
        "#Título de práctica: Macotas1\n",
        "\n",
        "#Este código permite registrar y gestionar mascotas en una veterinaria. Se compone de una clase base Mascotay dos clases derivadas ( Perro y Gato).\n",
        "\n",
        "#Autor: Brayan Fontecha\n",
        "#Fecha 30-03-2025\n",
        "from datetime import datetime\n",
        "\n",
        "# Clase base Mascota\n",
        "class Mascota:\n",
        "    def __init__(self, nombre, edad, raza):\n",
        "        self.nombre = nombre  # Nombre de la mascota\n",
        "        self.edad = edad  # Edad de la mascota\n",
        "        self.raza = raza  # Raza de la mascota\n",
        "        self.fecha_ingreso = datetime.now().isoformat()  # Fecha y hora de ingreso\n",
        "\n",
        "    def obtener_datos(self):\n",
        "        # Devuelve los datos de la mascota en forma de lista\n",
        "        return [self.__class__.__name__, self.nombre, f\"{self.edad} años\", self.raza, self.fecha_ingreso]\n",
        "\n",
        "# Clase Perro que hereda de Mascota\n",
        "class Perro(Mascota):\n",
        "    pass\n",
        "\n",
        "# Clase Gato que hereda de Mascota\n",
        "class Gato(Mascota):\n",
        "    pass\n",
        "\n",
        "# Función para ingresar los datos de las mascotas\n",
        "def ingresar_mascotas():\n",
        "    mascotas = []  # Lista para almacenar las mascotas\n",
        "    cantidad = int(input(\"¿Cuántas mascotas va a ingresar?\\n> \"))\n",
        "\n",
        "    for i in range(cantidad):\n",
        "        while True:\n",
        "            print(f\"Mascota {i+1}, ¿qué clase es (P)erro o (G)ato?\")\n",
        "            clase = input(\"> \").strip().lower()\n",
        "\n",
        "            if clase == 'p':\n",
        "                clase_mascota = Perro\n",
        "                break\n",
        "            elif clase == 'g':\n",
        "                clase_mascota = Gato\n",
        "                break\n",
        "            else:\n",
        "                print(\"Opción inválida. Intente de nuevo.\")\n",
        "\n",
        "        # Solicita los datos de la mascota\n",
        "        nombre = input(f\"¿Cuál es el nombre del {clase_mascota.__name__}?\\n> \").strip()\n",
        "        edad = int(input(f\"¿Qué edad tiene '{nombre}'?\\n> \").strip())\n",
        "        raza = input(f\"¿De qué raza es '{nombre}'?\\n> \").strip()\n",
        "\n",
        "        # Crea una instancia de la mascota y la añade a la lista\n",
        "        mascota = clase_mascota(nombre, edad, raza)\n",
        "        mascotas.append(mascota)\n",
        "\n",
        "    return mascotas\n",
        "\n",
        "# Función para mostrar el resumen de las mascotas ingresadas\n",
        "def mostrar_resumen(mascotas):\n",
        "    print(\"\\nResumen:\")\n",
        "    print(\"|Clase |Nombre   |Edad   |Raza         |Fecha de ingreso          |\")\n",
        "    print(\"-\" * 70)\n",
        "    for mascota in mascotas:\n",
        "        print(\"|\" + \" |\".join(mascota.obtener_datos()) + \" |\")\n",
        "\n",
        "# Punto de entrada del programa\n",
        "if __name__ == \"__main__\":\n",
        "    mascotas = ingresar_mascotas()  # Llama a la función para ingresar mascotas\n",
        "    mostrar_resumen(mascotas)  # Muestra el resumen de las mascotas ingresadas\n"
      ],
      "metadata": {
        "colab": {
          "base_uri": "https://localhost:8080/"
        },
        "id": "j66wTf3j8LUY",
        "outputId": "b42b84b9-9bd7-4c05-f1e0-57b48dac17fd"
      },
      "execution_count": 6,
      "outputs": [
        {
          "output_type": "stream",
          "name": "stdout",
          "text": [
            "¿Cuántas mascotas va a ingresar?\n",
            "> 1\n",
            "Mascota 1, ¿qué clase es (P)erro o (G)ato?\n",
            "> perro\n",
            "Opción inválida. Intente de nuevo.\n",
            "Mascota 1, ¿qué clase es (P)erro o (G)ato?\n",
            "> P\n",
            "¿Cuál es el nombre del Perro?\n",
            "> Matias\n",
            "¿Qué edad tiene 'Matias'?\n",
            "> 4\n",
            "¿De qué raza es 'Matias'?\n",
            "> pitbull\n",
            "\n",
            "Resumen:\n",
            "|Clase |Nombre   |Edad   |Raza         |Fecha de ingreso          |\n",
            "----------------------------------------------------------------------\n",
            "|Perro |Matias |4 años |pitbull |2025-03-31T02:04:41.076598 |\n"
          ]
        }
      ]
    }
  ]
}
