{
  "cells": [
    {
      "cell_type": "code",
      "execution_count": null,
      "metadata": {
        "id": "9cjz5vw-lfKu"
      },
      "outputs": [],
      "source": []
    },
    {
      "cell_type": "code",
      "execution_count": null,
      "metadata": {
        "colab": {
          "base_uri": "https://localhost:8080/"
        },
        "id": "cXwzbLEwljDk",
        "outputId": "dbe4728a-8d6a-4853-cc7c-fcd1a4c1d677"
      },
      "outputs": [
        {
          "name": "stdout",
          "output_type": "stream",
          "text": [
            "Ingrese los datos del producto 1:\n",
            "Nombre: Pan\n",
            "Precio unitario (COP): 1000\n",
            "Cantidad: 2\n",
            "-\n",
            "Ingrese los datos del producto 2:\n",
            "Nombre: gaseosa\n",
            "Precio unitario (COP): 4000\n",
            "Cantidad: 3\n",
            "-\n",
            "Ingrese los datos del producto 3:\n",
            "Nombre: arroz\n",
            "Precio unitario (COP): 3000\n",
            "Cantidad: 1\n",
            "-\n",
            "\n",
            "Inventario de la tienda:\n",
            "Nombre: Pan | Precio: $1,000.00 COP | Cantidad: 2 unidades\n",
            "Nombre: gaseosa | Precio: $4,000.00 COP | Cantidad: 3 unidades\n",
            "Nombre: arroz | Precio: $3,000.00 COP | Cantidad: 1 unidades\n"
          ]
        }
      ],
      "source": [
        "#Título de práctica: Tienda1\n",
        "\n",
        "#Descripción extendida del programa:Este código es un programa simple para gestionar un inventario de productos,\n",
        "#permitiendo al usuario ingresar y mostrar la información de los productos.\n",
        "\n",
        "#Autor: Brayan Fontecha <bsfontecha@academia.usbbog.edu.co>\n",
        "#Fecha: 2025-02-27\n",
        "\n",
        "class Producto:\n",
        "    #Declaracion de las variables\n",
        "    def __init__(self, nombre, precio, cantidad):\n",
        "        self.nombre = nombre\n",
        "        self.precio = precio\n",
        "        self.cantidad = cantidad\n",
        "\n",
        "    #Mostrar la información del producto\n",
        "    def mostrar_info(self):\n",
        "        return f\"Nombre: {self.nombre} | Precio: ${self.precio:,.2f} COP | Cantidad: {self.cantidad} unidades\"\n",
        "\n",
        "\n",
        "def main():\n",
        "    productos = []  # Lista para almacenar los productos ingresados\n",
        "\n",
        "    # Bucle para solicitar los datos de tres productos\n",
        "    for i in range(3):\n",
        "        print(f\"Ingrese los datos del producto {i + 1}:\")\n",
        "        # Solicitar el nombre del producto\n",
        "        nombre = input(\"Nombre: \")\n",
        "        # Solicitar el precio unitario y convertirlo a float\n",
        "        precio = float(input(\"Precio unitario (COP): \"))\n",
        "        # Solicitar la cantidad y convertirla a entero\n",
        "        cantidad = int(input(\"Cantidad: \"))\n",
        "        # Agregar el producto a la lista\n",
        "        productos.append(Producto(nombre, precio, cantidad))\n",
        "        print(\"-\")\n",
        "\n",
        "    # Mostrar los productos ingresados\n",
        "    print(\"\\nInventario de la tienda:\")\n",
        "    for producto in productos:\n",
        "        print(producto.mostrar_info())\n",
        "\n",
        "\n",
        "# Ejecutar la función principal cuando el script es ejecutado directamente\n",
        "if __name__ == \"__main__\":\n",
        "    main()"
      ]
    }
  ],
  "metadata": {
    "colab": {
      "provenance": []
    },
    "kernelspec": {
      "display_name": "Python 3",
      "name": "python3"
    },
    "language_info": {
      "name": "python"
    }
  },
  "nbformat": 4,
  "nbformat_minor": 0
}
