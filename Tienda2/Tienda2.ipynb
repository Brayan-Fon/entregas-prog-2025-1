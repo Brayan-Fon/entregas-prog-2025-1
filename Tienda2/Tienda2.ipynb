{
  "nbformat": 4,
  "nbformat_minor": 0,
  "metadata": {
    "colab": {
      "provenance": []
    },
    "kernelspec": {
      "name": "python3",
      "display_name": "Python 3"
    },
    "language_info": {
      "name": "python"
    }
  },
  "cells": [
    {
      "cell_type": "code",
      "source": [
        "#Título de práctica: Tienda2\n",
        "\n",
        "#Descripción extendida del programa:Este código es un programa simple para gestionar un inventario de productos,\n",
        "#permitiendo al usuario ingresar y mostrar la información de los productos.\n",
        "\n",
        "#Autor: Brayan Fontecha\n",
        "#Fecha 04-04-2025\n",
        "\n",
        "class Producto:\n",
        "    # Clase que representa un producto en el inventario\n",
        "    def __init__(self, nombre, descripcion, clasificacion, precio, cantidad):\n",
        "        self.nombre = nombre  # Nombre del producto\n",
        "        self.descripcion = descripcion  # Descripción del producto\n",
        "        self.clasificacion = clasificacion  # Clasificación del producto (Ej: alimentación, aseo, etc.)\n",
        "        self.precio = precio  # Precio unitario del producto\n",
        "        self.cantidad = cantidad  # Cantidad disponible del producto\n",
        "\n",
        "    def mostrar_info(self):\n",
        "        # Método que devuelve una cadena con la información detallada del producto\n",
        "        return (f\"Nombre: {self.nombre} | Descripción: {self.descripcion} | Clasificación: {self.clasificacion} \"\n",
        "                f\"| Precio: ${self.precio:,.2f} COP | Cantidad: {self.cantidad} unidades\")\n",
        "\n",
        "def main():\n",
        "    productos = []  # Lista para almacenar los productos ingresados\n",
        "    clasificacion_totales = {}  # Diccionario para acumular precios por clasificación\n",
        "\n",
        "    # Solicitar al usuario la cantidad de productos a ingresar\n",
        "    num_productos = int(input(\"Ingrese la cantidad de productos a registrar: \"))\n",
        "\n",
        "    # Bucle para registrar cada producto\n",
        "    for i in range(num_productos):\n",
        "        print(f\"Ingrese los datos del producto {i + 1}:\")\n",
        "        nombre = input(\"Nombre: \")  # Pedir nombre del producto\n",
        "        descripcion = input(\"Descripción: \")  # Pedir descripción del producto\n",
        "        clasificacion = input(\"Clasificación: \")  # Pedir clasificación del producto\n",
        "        precio = float(input(\"Precio unitario (COP): \"))  # Pedir precio unitario y convertir a float\n",
        "        cantidad = int(input(\"Cantidad: \"))  # Pedir cantidad y convertir a entero\n",
        "\n",
        "        # Crear una instancia del producto y agregarlo a la lista\n",
        "        producto = Producto(nombre, descripcion, clasificacion, precio, cantidad)\n",
        "        productos.append(producto)\n",
        "\n",
        "        # Acumular precio total por clasificación\n",
        "        if clasificacion in clasificacion_totales:\n",
        "            clasificacion_totales[clasificacion] += precio * cantidad\n",
        "        else:\n",
        "            clasificacion_totales[clasificacion] = precio * cantidad\n",
        "\n",
        "        print(\"-\")\n",
        "\n",
        "    # Mostrar el inventario completo de la tienda\n",
        "    print(\"\\nInventario de la tienda:\")\n",
        "    for producto in productos:\n",
        "        print(producto.mostrar_info())\n",
        "\n",
        "    # Mostrar el resumen de precios agrupados por clasificación\n",
        "    print(\"\\nResumen de precios por clasificación:\")\n",
        "    for clasificacion, total in clasificacion_totales.items():\n",
        "        print(f\"{clasificacion}: ${total:,.2f} COP\")\n",
        "\n",
        "# Ejecutar el programa si se ejecuta directamente este script\n",
        "if __name__ == \"__main__\":\n",
        "    main()\n"
      ],
      "metadata": {
        "id": "E9IRo9N957Re"
      },
      "execution_count": null,
      "outputs": []
    }
  ]
}